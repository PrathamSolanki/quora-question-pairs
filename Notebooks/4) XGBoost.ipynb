{
 "cells": [
  {
   "cell_type": "code",
   "execution_count": 6,
   "metadata": {
    "collapsed": false,
    "deletable": true,
    "editable": true
   },
   "outputs": [],
   "source": [
    "import numpy as np\n",
    "import pandas as pd\n",
    "import xgboost as xgb\n",
    "from sklearn.cross_validation import train_test_split"
   ]
  },
  {
   "cell_type": "code",
   "execution_count": 2,
   "metadata": {
    "collapsed": false,
    "deletable": true,
    "editable": true
   },
   "outputs": [],
   "source": [
    "train_df = pd.read_pickle('dataframe')"
   ]
  },
  {
   "cell_type": "code",
   "execution_count": 7,
   "metadata": {
    "collapsed": false,
    "deletable": true,
    "editable": true
   },
   "outputs": [],
   "source": [
    "features = [\"unigrams_common_count\", \"unigrams_common_ratio\",\n",
    "            \"bigrams_common_count\", \"bigrams_common_ratio\",\n",
    "            \"trigrams_common_count\", \"trigrams_common_ratio\",\n",
    "            \"nouns_common_ratio\",\n",
    "            \"word_match\", \"tfidf_train_word_match\"]\n",
    "\n",
    "x_train = train_df[features]\n",
    "y_train = train_df['is_duplicate'].values"
   ]
  },
  {
   "cell_type": "code",
   "execution_count": 8,
   "metadata": {
    "collapsed": false,
    "deletable": true,
    "editable": true
   },
   "outputs": [
    {
     "name": "stdout",
     "output_type": "stream",
     "text": [
      "0.19124366100096607\n"
     ]
    }
   ],
   "source": [
    "pos_train = x_train[y_train == 1]\n",
    "neg_train = x_train[y_train == 0]\n",
    "\n",
    "# Now we oversample the negative class\n",
    "# There is likely a much more elegant way to do this...\n",
    "p = 0.165\n",
    "scale = ((len(pos_train) / (len(pos_train) + len(neg_train))) / p) - 1\n",
    "while scale > 1:\n",
    "    neg_train = pd.concat([neg_train, neg_train])\n",
    "    scale -=1\n",
    "neg_train = pd.concat([neg_train, neg_train[:int(scale * len(neg_train))]])\n",
    "print(len(pos_train) / (len(pos_train) + len(neg_train)))\n",
    "\n",
    "x_train = pd.concat([pos_train, neg_train])\n",
    "y_train = (np.zeros(len(pos_train)) + 1).tolist() + np.zeros(len(neg_train)).tolist()\n",
    "del pos_train, neg_train"
   ]
  },
  {
   "cell_type": "code",
   "execution_count": 9,
   "metadata": {
    "collapsed": false,
    "deletable": true,
    "editable": true
   },
   "outputs": [],
   "source": [
    "x_train, x_valid, y_train, y_valid = train_test_split(x_train, y_train, test_size=0.2, random_state=4242)"
   ]
  },
  {
   "cell_type": "code",
   "execution_count": 11,
   "metadata": {
    "collapsed": false,
    "deletable": true,
    "editable": true
   },
   "outputs": [
    {
     "name": "stdout",
     "output_type": "stream",
     "text": [
      "[0]\ttrain-logloss:0.644321\tvalid-logloss:0.64449\n",
      "Multiple eval metrics have been passed: 'valid-logloss' will be used for early stopping.\n",
      "\n",
      "Will train until valid-logloss hasn't improved in 50 rounds.\n",
      "[10]\ttrain-logloss:0.432023\tvalid-logloss:0.433097\n",
      "[20]\ttrain-logloss:0.37802\tvalid-logloss:0.379532\n",
      "[30]\ttrain-logloss:0.361233\tvalid-logloss:0.362866\n",
      "[40]\ttrain-logloss:0.355289\tvalid-logloss:0.356974\n",
      "[50]\ttrain-logloss:0.352743\tvalid-logloss:0.354466\n",
      "[60]\ttrain-logloss:0.351296\tvalid-logloss:0.353107\n",
      "[70]\ttrain-logloss:0.350149\tvalid-logloss:0.352081\n",
      "[80]\ttrain-logloss:0.349152\tvalid-logloss:0.351213\n",
      "[90]\ttrain-logloss:0.348224\tvalid-logloss:0.350381\n",
      "[100]\ttrain-logloss:0.347553\tvalid-logloss:0.349785\n",
      "[110]\ttrain-logloss:0.346749\tvalid-logloss:0.349103\n",
      "[120]\ttrain-logloss:0.346362\tvalid-logloss:0.348787\n",
      "[130]\ttrain-logloss:0.345839\tvalid-logloss:0.348366\n",
      "[140]\ttrain-logloss:0.345356\tvalid-logloss:0.34795\n",
      "[150]\ttrain-logloss:0.3449\tvalid-logloss:0.347576\n",
      "[160]\ttrain-logloss:0.344519\tvalid-logloss:0.347267\n",
      "[170]\ttrain-logloss:0.344183\tvalid-logloss:0.346993\n",
      "[180]\ttrain-logloss:0.343811\tvalid-logloss:0.346697\n",
      "[190]\ttrain-logloss:0.343422\tvalid-logloss:0.346385\n",
      "[200]\ttrain-logloss:0.343135\tvalid-logloss:0.346182\n",
      "[210]\ttrain-logloss:0.34287\tvalid-logloss:0.346\n",
      "[220]\ttrain-logloss:0.342686\tvalid-logloss:0.3459\n",
      "[230]\ttrain-logloss:0.342471\tvalid-logloss:0.345751\n",
      "[240]\ttrain-logloss:0.342197\tvalid-logloss:0.345564\n",
      "[250]\ttrain-logloss:0.34199\tvalid-logloss:0.345416\n",
      "[260]\ttrain-logloss:0.341753\tvalid-logloss:0.345273\n",
      "[270]\ttrain-logloss:0.341517\tvalid-logloss:0.345135\n",
      "[280]\ttrain-logloss:0.341325\tvalid-logloss:0.345016\n",
      "[290]\ttrain-logloss:0.341168\tvalid-logloss:0.344909\n",
      "[300]\ttrain-logloss:0.340856\tvalid-logloss:0.344642\n",
      "[310]\ttrain-logloss:0.340602\tvalid-logloss:0.344508\n",
      "[320]\ttrain-logloss:0.34031\tvalid-logloss:0.344279\n",
      "[330]\ttrain-logloss:0.340143\tvalid-logloss:0.344177\n",
      "[340]\ttrain-logloss:0.33996\tvalid-logloss:0.34408\n",
      "[350]\ttrain-logloss:0.33978\tvalid-logloss:0.343974\n",
      "[360]\ttrain-logloss:0.33962\tvalid-logloss:0.343893\n",
      "[370]\ttrain-logloss:0.339446\tvalid-logloss:0.343789\n",
      "[380]\ttrain-logloss:0.339286\tvalid-logloss:0.343704\n",
      "[390]\ttrain-logloss:0.339096\tvalid-logloss:0.343603\n",
      "[400]\ttrain-logloss:0.338846\tvalid-logloss:0.343404\n",
      "[410]\ttrain-logloss:0.338684\tvalid-logloss:0.343321\n",
      "[420]\ttrain-logloss:0.338508\tvalid-logloss:0.343203\n",
      "[430]\ttrain-logloss:0.338299\tvalid-logloss:0.343021\n",
      "[440]\ttrain-logloss:0.338164\tvalid-logloss:0.342958\n",
      "[450]\ttrain-logloss:0.338023\tvalid-logloss:0.342902\n",
      "[460]\ttrain-logloss:0.337887\tvalid-logloss:0.342835\n",
      "[470]\ttrain-logloss:0.337773\tvalid-logloss:0.342792\n",
      "[480]\ttrain-logloss:0.337584\tvalid-logloss:0.34267\n",
      "[490]\ttrain-logloss:0.337446\tvalid-logloss:0.34259\n",
      "[500]\ttrain-logloss:0.337356\tvalid-logloss:0.342566\n",
      "[510]\ttrain-logloss:0.337233\tvalid-logloss:0.342502\n",
      "[520]\ttrain-logloss:0.337091\tvalid-logloss:0.34242\n",
      "[530]\ttrain-logloss:0.336915\tvalid-logloss:0.342328\n",
      "[540]\ttrain-logloss:0.33679\tvalid-logloss:0.342264\n",
      "[550]\ttrain-logloss:0.336684\tvalid-logloss:0.342206\n",
      "[560]\ttrain-logloss:0.336556\tvalid-logloss:0.342154\n",
      "[570]\ttrain-logloss:0.336465\tvalid-logloss:0.342126\n",
      "[580]\ttrain-logloss:0.336393\tvalid-logloss:0.342114\n",
      "[590]\ttrain-logloss:0.336261\tvalid-logloss:0.342039\n",
      "[600]\ttrain-logloss:0.336144\tvalid-logloss:0.341966\n",
      "[610]\ttrain-logloss:0.336044\tvalid-logloss:0.341917\n",
      "[620]\ttrain-logloss:0.335973\tvalid-logloss:0.341888\n",
      "[630]\ttrain-logloss:0.335831\tvalid-logloss:0.341823\n",
      "[640]\ttrain-logloss:0.335669\tvalid-logloss:0.341719\n",
      "[650]\ttrain-logloss:0.33553\tvalid-logloss:0.341617\n",
      "[660]\ttrain-logloss:0.335431\tvalid-logloss:0.341552\n",
      "[670]\ttrain-logloss:0.335298\tvalid-logloss:0.341487\n",
      "[680]\ttrain-logloss:0.335194\tvalid-logloss:0.341446\n",
      "[690]\ttrain-logloss:0.335069\tvalid-logloss:0.341376\n",
      "[700]\ttrain-logloss:0.334919\tvalid-logloss:0.341287\n",
      "[710]\ttrain-logloss:0.334795\tvalid-logloss:0.34123\n",
      "[720]\ttrain-logloss:0.33471\tvalid-logloss:0.341186\n",
      "[730]\ttrain-logloss:0.33463\tvalid-logloss:0.341159\n",
      "[740]\ttrain-logloss:0.334541\tvalid-logloss:0.341128\n",
      "[750]\ttrain-logloss:0.33443\tvalid-logloss:0.341079\n",
      "[760]\ttrain-logloss:0.334355\tvalid-logloss:0.341063\n",
      "[770]\ttrain-logloss:0.334263\tvalid-logloss:0.341035\n",
      "[780]\ttrain-logloss:0.334187\tvalid-logloss:0.341021\n",
      "[790]\ttrain-logloss:0.334111\tvalid-logloss:0.341\n",
      "[800]\ttrain-logloss:0.333988\tvalid-logloss:0.34095\n",
      "[810]\ttrain-logloss:0.333888\tvalid-logloss:0.340926\n",
      "[820]\ttrain-logloss:0.333795\tvalid-logloss:0.340883\n",
      "[830]\ttrain-logloss:0.333682\tvalid-logloss:0.340823\n",
      "[840]\ttrain-logloss:0.333596\tvalid-logloss:0.340796\n",
      "[850]\ttrain-logloss:0.333533\tvalid-logloss:0.34079\n",
      "[860]\ttrain-logloss:0.333473\tvalid-logloss:0.340785\n",
      "[870]\ttrain-logloss:0.333411\tvalid-logloss:0.340762\n",
      "[880]\ttrain-logloss:0.333347\tvalid-logloss:0.340737\n",
      "[890]\ttrain-logloss:0.33324\tvalid-logloss:0.340685\n",
      "[900]\ttrain-logloss:0.333119\tvalid-logloss:0.340618\n",
      "[910]\ttrain-logloss:0.333\tvalid-logloss:0.340571\n",
      "[920]\ttrain-logloss:0.332913\tvalid-logloss:0.340521\n",
      "[930]\ttrain-logloss:0.332809\tvalid-logloss:0.34046\n",
      "[940]\ttrain-logloss:0.332705\tvalid-logloss:0.340429\n",
      "[950]\ttrain-logloss:0.332597\tvalid-logloss:0.340386\n",
      "[960]\ttrain-logloss:0.332507\tvalid-logloss:0.340341\n",
      "[970]\ttrain-logloss:0.332415\tvalid-logloss:0.340296\n",
      "[980]\ttrain-logloss:0.33234\tvalid-logloss:0.340271\n",
      "[990]\ttrain-logloss:0.332242\tvalid-logloss:0.340239\n"
     ]
    }
   ],
   "source": [
    "params = {}\n",
    "params['objective'] = 'binary:logistic'\n",
    "params['eval_metric'] = 'logloss'\n",
    "params['eta'] = 0.1\n",
    "params['max_depth'] = 4\n",
    "\n",
    "d_train = xgb.DMatrix(x_train, label=y_train)\n",
    "d_valid = xgb.DMatrix(x_valid, label=y_valid)\n",
    "\n",
    "watchlist = [(d_train, 'train'), (d_valid, 'valid')]\n",
    "\n",
    "bst = xgb.train(params, d_train, 1000, watchlist, early_stopping_rounds=50, verbose_eval=10)"
   ]
  },
  {
   "cell_type": "code",
   "execution_count": 14,
   "metadata": {
    "collapsed": false,
    "deletable": true,
    "editable": true
   },
   "outputs": [],
   "source": [
    "bst.save_model('valid-logloss:0.340239.model')"
   ]
  },
  {
   "cell_type": "code",
   "execution_count": null,
   "metadata": {
    "collapsed": false,
    "deletable": true,
    "editable": true
   },
   "outputs": [],
   "source": []
  },
  {
   "cell_type": "code",
   "execution_count": null,
   "metadata": {
    "collapsed": false,
    "deletable": true,
    "editable": true
   },
   "outputs": [],
   "source": []
  },
  {
   "cell_type": "code",
   "execution_count": null,
   "metadata": {
    "collapsed": false,
    "deletable": true,
    "editable": true
   },
   "outputs": [],
   "source": []
  },
  {
   "cell_type": "code",
   "execution_count": null,
   "metadata": {
    "collapsed": false,
    "deletable": true,
    "editable": true
   },
   "outputs": [],
   "source": []
  },
  {
   "cell_type": "code",
   "execution_count": null,
   "metadata": {
    "collapsed": false,
    "deletable": true,
    "editable": true
   },
   "outputs": [],
   "source": []
  },
  {
   "cell_type": "code",
   "execution_count": null,
   "metadata": {
    "collapsed": false,
    "deletable": true,
    "editable": true
   },
   "outputs": [],
   "source": []
  },
  {
   "cell_type": "code",
   "execution_count": null,
   "metadata": {
    "collapsed": true,
    "deletable": true,
    "editable": true
   },
   "outputs": [],
   "source": []
  },
  {
   "cell_type": "code",
   "execution_count": null,
   "metadata": {
    "collapsed": false,
    "deletable": true,
    "editable": true
   },
   "outputs": [],
   "source": []
  },
  {
   "cell_type": "code",
   "execution_count": 35,
   "metadata": {
    "collapsed": true,
    "deletable": true,
    "editable": true
   },
   "outputs": [],
   "source": []
  },
  {
   "cell_type": "code",
   "execution_count": 29,
   "metadata": {
    "collapsed": false,
    "deletable": true,
    "editable": true
   },
   "outputs": [],
   "source": []
  },
  {
   "cell_type": "code",
   "execution_count": null,
   "metadata": {
    "collapsed": false,
    "deletable": true,
    "editable": true
   },
   "outputs": [],
   "source": []
  },
  {
   "cell_type": "code",
   "execution_count": null,
   "metadata": {
    "collapsed": false,
    "deletable": true,
    "editable": true
   },
   "outputs": [],
   "source": []
  },
  {
   "cell_type": "code",
   "execution_count": null,
   "metadata": {
    "collapsed": true,
    "deletable": true,
    "editable": true
   },
   "outputs": [],
   "source": []
  },
  {
   "cell_type": "code",
   "execution_count": 52,
   "metadata": {
    "collapsed": false,
    "deletable": true,
    "editable": true
   },
   "outputs": [],
   "source": []
  },
  {
   "cell_type": "code",
   "execution_count": null,
   "metadata": {
    "collapsed": false,
    "deletable": true,
    "editable": true
   },
   "outputs": [],
   "source": []
  },
  {
   "cell_type": "code",
   "execution_count": 54,
   "metadata": {
    "collapsed": true,
    "deletable": true,
    "editable": true
   },
   "outputs": [],
   "source": []
  },
  {
   "cell_type": "code",
   "execution_count": null,
   "metadata": {
    "collapsed": false,
    "deletable": true,
    "editable": true
   },
   "outputs": [],
   "source": []
  },
  {
   "cell_type": "code",
   "execution_count": null,
   "metadata": {
    "collapsed": true,
    "deletable": true,
    "editable": true
   },
   "outputs": [],
   "source": []
  },
  {
   "cell_type": "code",
   "execution_count": null,
   "metadata": {
    "collapsed": true,
    "deletable": true,
    "editable": true
   },
   "outputs": [],
   "source": []
  }
 ],
 "metadata": {
  "kernelspec": {
   "display_name": "Python 3",
   "language": "python",
   "name": "python3"
  },
  "language_info": {
   "codemirror_mode": {
    "name": "ipython",
    "version": 3
   },
   "file_extension": ".py",
   "mimetype": "text/x-python",
   "name": "python",
   "nbconvert_exporter": "python",
   "pygments_lexer": "ipython3",
   "version": "3.5.2"
  }
 },
 "nbformat": 4,
 "nbformat_minor": 2
}
